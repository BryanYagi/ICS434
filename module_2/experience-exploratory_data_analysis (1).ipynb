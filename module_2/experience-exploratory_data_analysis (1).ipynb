{
 "cells": [
  {
   "cell_type": "markdown",
   "id": "30610127",
   "metadata": {},
   "source": [
    "### Q.1\n",
    "\n",
    "* Assuming the `DataFrame`'s `HNL_flights_df` contains information about all the arriving and departing flights in and out of the Honolulu airport (HNL).\n",
    "\n",
    "* Which of the following lines of code will give the number of rows and columns of the `HNL_flights_df DataFrame`?  \n",
    "\n",
    "A:\n",
    "```python\n",
    "HNL_flights_df.size\n",
    "```\n",
    "\n",
    "# B: \n",
    " ```python\n",
    "HNL_flights_df.shape\n",
    "```\n",
    "\n",
    "C: \n",
    "```python\n",
    "HNL_flights_df.shape()\n",
    "```\n",
    "\n",
    "D: \n",
    "```python\n",
    "pd.shape(HNL_flights_df)\n",
    "```"
   ]
  },
  {
   "cell_type": "markdown",
   "id": "064b1ad8",
   "metadata": {},
   "source": [
    "### Q.2\n",
    "\n",
    " Which of the following lines of code will output the average arrival delay time for the flights described in `HNL_flights_df`? \n",
    "\n",
    "# A:\n",
    "```python\n",
    "HNL_flights_df['ARRIVAL_DELAY'].mean()\n",
    "```\n",
    "\n",
    "B:\n",
    "```python\n",
    "HNL_flights_df.mean()\n",
    "```\n",
    "\n",
    "C:\n",
    "```python\n",
    "HNL_flights_df[\"ARRIVAL_DELAY\"].sum() / HNL_flights_df[\"ARRIVAL_DELAY\"].size\n",
    "```\n",
    "\n",
    "D:\n",
    "```python\n",
    "HNL_flights_df.describe().ARRIVAL_DELAY\n",
    "```"
   ]
  },
  {
   "cell_type": "markdown",
   "id": "b8c2c481",
   "metadata": {},
   "source": [
    "### Q.3\n",
    "\n",
    "\n",
    "Which line of code will correctly sort `HNL_flights_df` by the arrival delay in order of largest to least,\n",
    "\n",
    "A:\n",
    "```python\n",
    "HNL_flights_df.sort_values(by='ARRIVAL_DELAY')\n",
    "```\n",
    "\n",
    "B:\n",
    "```python\n",
    "HNL_flights_df.sort_values(by='ARRIVAL_DELAY', ascending = True)\n",
    "```\n",
    "\n",
    "# C:\n",
    "```python\n",
    "HNL_flights_df.sort_index(by='ARRIVAL_DELAY', descending=False)\n",
    "```\n",
    "\n",
    "D:\n",
    "```python\n",
    "HNL_flights_df.sort(by='ARRIVAL_DELAY', ascending = False)\n",
    "```"
   ]
  },
  {
   "cell_type": "markdown",
   "id": "2af60c5d",
   "metadata": {
    "pycharm": {
     "name": "#%%\n"
    }
   },
   "source": [
    "### Q.4\n",
    "\n",
    "10 users were asked to select from four options (A, B, C and D). Their responses are stored in the variable `x` below.\n",
    "\n",
    "```python\n",
    "x = pd.Series([\"A\" , \"B\", \"A\", \"A\", \"D\", \"C\", \"A\", \"C\", \"A\", \"A\"])\n",
    "```\n",
    "\n",
    "Use the data in `x` to plot a piechart representing the counts for each of the 4 options. Your plot should look like the following:\n",
    "\n",
    "![](https://www.dropbox.com/s/jgq8whc8jcdazkj/pie_chart.png?dl=1)\n",
    "\n",
    "This can be done by:\n",
    "\n",
    "1. Counting the number of occurrences of each option and storing it into a DataFrame that looks like this:\n",
    "\n",
    "![](https://www.dropbox.com/s/qmr3y9ppf6qllle/counts_df.png?dl=1)\n",
    "\n",
    "2. Invoking the plot method with `pie` option on the `DataFrame`, indicating that your `y` value is the `counts` column."
   ]
  },
  {
   "cell_type": "code",
   "execution_count": 19,
   "id": "f4a275b9",
   "metadata": {},
   "outputs": [],
   "source": [
    "import pandas as pd"
   ]
  },
  {
   "cell_type": "markdown",
   "id": "3c0a6137",
   "metadata": {},
   "source": [
    "#### Part 1"
   ]
  },
  {
   "cell_type": "code",
   "execution_count": 20,
   "id": "82e1d062",
   "metadata": {},
   "outputs": [
    {
     "data": {
      "text/html": [
       "<div>\n",
       "<style scoped>\n",
       "    .dataframe tbody tr th:only-of-type {\n",
       "        vertical-align: middle;\n",
       "    }\n",
       "\n",
       "    .dataframe tbody tr th {\n",
       "        vertical-align: top;\n",
       "    }\n",
       "\n",
       "    .dataframe thead th {\n",
       "        text-align: right;\n",
       "    }\n",
       "</style>\n",
       "<table border=\"1\" class=\"dataframe\">\n",
       "  <thead>\n",
       "    <tr style=\"text-align: right;\">\n",
       "      <th></th>\n",
       "      <th>Letter</th>\n",
       "      <th>Counts</th>\n",
       "    </tr>\n",
       "  </thead>\n",
       "  <tbody>\n",
       "    <tr>\n",
       "      <th>0</th>\n",
       "      <td>A</td>\n",
       "      <td>6</td>\n",
       "    </tr>\n",
       "    <tr>\n",
       "      <th>1</th>\n",
       "      <td>B</td>\n",
       "      <td>1</td>\n",
       "    </tr>\n",
       "    <tr>\n",
       "      <th>2</th>\n",
       "      <td>C</td>\n",
       "      <td>2</td>\n",
       "    </tr>\n",
       "    <tr>\n",
       "      <th>3</th>\n",
       "      <td>D</td>\n",
       "      <td>1</td>\n",
       "    </tr>\n",
       "  </tbody>\n",
       "</table>\n",
       "</div>"
      ],
      "text/plain": [
       "  Letter  Counts\n",
       "0      A       6\n",
       "1      B       1\n",
       "2      C       2\n",
       "3      D       1"
      ]
     },
     "execution_count": 20,
     "metadata": {},
     "output_type": "execute_result"
    }
   ],
   "source": [
    "x = pd.Series([\"A\", \"B\", \"A\", \"A\", \"D\", \"C\", \"A\", \"C\", \"A\", \"A\"])\n",
    "counts_a=x.value_counts()[\"A\"]\n",
    "counts_b=x.value_counts()[\"B\"]\n",
    "counts_c=x.value_counts()[\"C\"]\n",
    "counts_d=x.value_counts()[\"D\"]\n",
    "df=pd.DataFrame(columns=['Letter', 'Counts'])\n",
    "df['Letter']=['A','B','C','D']\n",
    "df['Counts']=[counts_a,counts_b,counts_c,counts_d]\n",
    "df"
   ]
  },
  {
   "cell_type": "markdown",
   "id": "ba15f15b",
   "metadata": {},
   "source": [
    "#### Part 2"
   ]
  },
  {
   "cell_type": "code",
   "execution_count": 21,
   "id": "44e9d5a8",
   "metadata": {},
   "outputs": [
    {
     "data": {
      "text/plain": [
       "<AxesSubplot:ylabel='Counts'>"
      ]
     },
     "execution_count": 21,
     "metadata": {},
     "output_type": "execute_result"
    },
    {
     "data": {
      "image/png": "[encoded data removed]",
      "text/plain": [
       "<Figure size 432x288 with 1 Axes>"
      ]
     },
     "metadata": {},
     "output_type": "display_data"
    }
   ],
   "source": [
    "df.groupby(['Letter']).sum().plot(kind='pie', y='Counts')"
   ]
  },
  {
   "cell_type": "code",
   "execution_count": null,
   "id": "cc8f5efd",
   "metadata": {},
   "outputs": [],
   "source": []
  }
 ],
 "metadata": {
  "kernelspec": {
   "display_name": "Python 3",
   "language": "python",
   "name": "python3"
  },
  "language_info": {
   "codemirror_mode": {
    "name": "ipython",
    "version": 3
   },
   "file_extension": ".py",
   "mimetype": "text/x-python",
   "name": "python",
   "nbconvert_exporter": "python",
   "pygments_lexer": "ipython3",
   "version": "3.8.8"
  }
 },
 "nbformat": 4,
 "nbformat_minor": 5
}
